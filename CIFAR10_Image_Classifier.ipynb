{
  "nbformat": 4,
  "nbformat_minor": 0,
  "metadata": {
    "colab": {
      "name": "CIFAR10_Image_Classifier.ipynb",
      "provenance": [],
      "collapsed_sections": [],
      "authorship_tag": "ABX9TyMqHu9SKJrnpcG8qs1NrSo/",
      "include_colab_link": true
    },
    "kernelspec": {
      "name": "python3",
      "display_name": "Python 3"
    },
    "accelerator": "GPU"
  },
  "cells": [
    {
      "cell_type": "markdown",
      "metadata": {
        "id": "view-in-github",
        "colab_type": "text"
      },
      "source": [
        "<a href=\"https://colab.research.google.com/github/VNKT777/Cifar10_Image_Cassifier/blob/main/CIFAR10_Image_Classifier.ipynb\" target=\"_parent\"><img src=\"https://colab.research.google.com/assets/colab-badge.svg\" alt=\"Open In Colab\"/></a>"
      ]
    },
    {
      "cell_type": "code",
      "metadata": {
        "id": "ul3a2l5R5OOF"
      },
      "source": [
        "import keras\r\n",
        "from keras.datasets import cifar10\r\n",
        "from keras.layers import MaxPooling2D , Dense, Conv2D, Flatten, Dropout, Activation\r\n",
        "from keras.optimizers import Adam\r\n",
        "from keras.utils import np_utils\r\n",
        "from keras.models import Sequential"
      ],
      "execution_count": 1,
      "outputs": []
    },
    {
      "cell_type": "code",
      "metadata": {
        "colab": {
          "base_uri": "https://localhost:8080/"
        },
        "id": "0yr4uguWFFEh",
        "outputId": "2a0b5eff-c8bc-44ef-fa3a-13cd4e0de12b"
      },
      "source": [
        "num_classes = 10 \r\n",
        "batchsize = 32\r\n",
        "epoch = 15\r\n",
        "\r\n",
        "(x_train,y_train),(x_test,y_test) = cifar10.load_data()\r\n",
        "\r\n",
        "img_rows = x_train[0].shape[0]\r\n",
        "img_cols = x_train[1].shape[0]\r\n",
        "\r\n",
        "x_train =x_train.astype('Float32')\r\n",
        "x_test =x_test.astype('Float32')\r\n",
        "\r\n",
        "x_train /= 255\r\n",
        "x_test /= 255\r\n",
        "\r\n",
        "y_train = keras.utils.to_categorical(y_train,num_classes)\r\n",
        "y_test = keras.utils.to_categorical(y_test,num_classes)"
      ],
      "execution_count": 2,
      "outputs": [
        {
          "output_type": "stream",
          "text": [
            "Downloading data from https://www.cs.toronto.edu/~kriz/cifar-10-python.tar.gz\n",
            "170500096/170498071 [==============================] - 2s 0us/step\n"
          ],
          "name": "stdout"
        },
        {
          "output_type": "stream",
          "text": [
            "/usr/local/lib/python3.6/dist-packages/ipykernel_launcher.py:10: DeprecationWarning: Numeric-style type codes are deprecated and will result in an error in the future.\n",
            "  # Remove the CWD from sys.path while we load stuff.\n",
            "/usr/local/lib/python3.6/dist-packages/ipykernel_launcher.py:11: DeprecationWarning: Numeric-style type codes are deprecated and will result in an error in the future.\n",
            "  # This is added back by InteractiveShellApp.init_path()\n"
          ],
          "name": "stderr"
        }
      ]
    },
    {
      "cell_type": "code",
      "metadata": {
        "colab": {
          "base_uri": "https://localhost:8080/"
        },
        "id": "gxhpTS1tKZAA",
        "outputId": "c8ee78c0-82f0-4183-9bd3-ed38ab341746"
      },
      "source": [
        "model = Sequential()\r\n",
        "\r\n",
        "model.add(Conv2D(32, (3, 3), padding='same',activation='relu',input_shape=x_train.shape[1:]))\r\n",
        "model.add(Conv2D(32, (3, 3),activation='relu'))\r\n",
        "model.add(MaxPooling2D(pool_size=(2, 2)))\r\n",
        "model.add(Dropout(0.25))\r\n",
        "\r\n",
        "model.add(Conv2D(64, (3, 3), padding='same',activation='relu'))\r\n",
        "model.add(Conv2D(64, (3, 3),activation='relu'))\r\n",
        "model.add(MaxPooling2D(pool_size=(2, 2)))\r\n",
        "model.add(Dropout(0.25))\r\n",
        "\r\n",
        "model.add(Flatten())\r\n",
        "model.add(Dense(512,activation='relu'))\r\n",
        "model.add(Dropout(0.5))\r\n",
        "model.add(Dense(num_classes,activation = 'softmax'))\r\n",
        "\r\n",
        "opt = keras.optimizers.RMSprop(lr=0.0001, decay=1e-6)\r\n",
        "\r\n",
        "# Let's create our model\r\n",
        "model.compile(loss = 'categorical_crossentropy',\r\n",
        "              optimizer = opt,\r\n",
        "              metrics = ['accuracy'])\r\n",
        "\r\n",
        "model.summary()"
      ],
      "execution_count": 3,
      "outputs": [
        {
          "output_type": "stream",
          "text": [
            "Model: \"sequential\"\n",
            "_________________________________________________________________\n",
            "Layer (type)                 Output Shape              Param #   \n",
            "=================================================================\n",
            "conv2d (Conv2D)              (None, 32, 32, 32)        896       \n",
            "_________________________________________________________________\n",
            "conv2d_1 (Conv2D)            (None, 30, 30, 32)        9248      \n",
            "_________________________________________________________________\n",
            "max_pooling2d (MaxPooling2D) (None, 15, 15, 32)        0         \n",
            "_________________________________________________________________\n",
            "dropout (Dropout)            (None, 15, 15, 32)        0         \n",
            "_________________________________________________________________\n",
            "conv2d_2 (Conv2D)            (None, 15, 15, 64)        18496     \n",
            "_________________________________________________________________\n",
            "conv2d_3 (Conv2D)            (None, 13, 13, 64)        36928     \n",
            "_________________________________________________________________\n",
            "max_pooling2d_1 (MaxPooling2 (None, 6, 6, 64)          0         \n",
            "_________________________________________________________________\n",
            "dropout_1 (Dropout)          (None, 6, 6, 64)          0         \n",
            "_________________________________________________________________\n",
            "flatten (Flatten)            (None, 2304)              0         \n",
            "_________________________________________________________________\n",
            "dense (Dense)                (None, 512)               1180160   \n",
            "_________________________________________________________________\n",
            "dropout_2 (Dropout)          (None, 512)               0         \n",
            "_________________________________________________________________\n",
            "dense_1 (Dense)              (None, 10)                5130      \n",
            "=================================================================\n",
            "Total params: 1,250,858\n",
            "Trainable params: 1,250,858\n",
            "Non-trainable params: 0\n",
            "_________________________________________________________________\n"
          ],
          "name": "stdout"
        }
      ]
    },
    {
      "cell_type": "code",
      "metadata": {
        "colab": {
          "base_uri": "https://localhost:8080/"
        },
        "id": "EGuKkqXUNLEx",
        "outputId": "fa3cdd06-746b-4e32-f759-6a6bbc430210"
      },
      "source": [
        "history = model.fit(x_train, y_train, batch_size=32, epochs=epoch,validation_data=(x_test,y_test),shuffle='True')"
      ],
      "execution_count": null,
      "outputs": [
        {
          "output_type": "stream",
          "text": [
            "Epoch 1/15\n",
            "1563/1563 [==============================] - 16s 10ms/step - loss: 0.6735 - accuracy: 0.7727 - val_loss: 0.6829 - val_accuracy: 0.7673\n",
            "Epoch 2/15\n",
            "1563/1563 [==============================] - 16s 10ms/step - loss: 0.6663 - accuracy: 0.7722 - val_loss: 0.6612 - val_accuracy: 0.7732\n",
            "Epoch 3/15\n",
            "1563/1563 [==============================] - 16s 10ms/step - loss: 0.6674 - accuracy: 0.7730 - val_loss: 0.6853 - val_accuracy: 0.7669\n",
            "Epoch 4/15\n",
            "1563/1563 [==============================] - 16s 10ms/step - loss: 0.6683 - accuracy: 0.7732 - val_loss: 0.6510 - val_accuracy: 0.7785\n",
            "Epoch 5/15\n",
            "1563/1563 [==============================] - 16s 10ms/step - loss: 0.6593 - accuracy: 0.7756 - val_loss: 0.7294 - val_accuracy: 0.7557\n",
            "Epoch 6/15\n",
            "1563/1563 [==============================] - 16s 10ms/step - loss: 0.6567 - accuracy: 0.7777 - val_loss: 0.6569 - val_accuracy: 0.7768\n",
            "Epoch 7/15\n",
            " 307/1563 [====>.........................] - ETA: 12s - loss: 0.6587 - accuracy: 0.7764"
          ],
          "name": "stdout"
        }
      ]
    },
    {
      "cell_type": "code",
      "metadata": {
        "colab": {
          "base_uri": "https://localhost:8080/",
          "height": 279
        },
        "id": "dD05kw53S9BS",
        "outputId": "21e4559a-c100-4545-fc5a-a49f0bf7f893"
      },
      "source": [
        "# Plotting our loss charts\r\n",
        "import matplotlib.pyplot as plt\r\n",
        "\r\n",
        "history_dict = history.history\r\n",
        "\r\n",
        "loss_values = history_dict['loss']\r\n",
        "val_loss_values = history_dict['val_loss']\r\n",
        "epochs = range(1, len(loss_values) + 1)\r\n",
        "\r\n",
        "line1 = plt.plot(epochs, val_loss_values, label='Validation/Test Loss')\r\n",
        "line2 = plt.plot(epochs, loss_values, label='Training Loss')\r\n",
        "plt.setp(line1, linewidth=2.0, marker = '+', markersize=10.0)\r\n",
        "plt.setp(line2, linewidth=2.0, marker = '4', markersize=10.0)\r\n",
        "plt.xlabel('Epochs') \r\n",
        "plt.ylabel('Loss')\r\n",
        "plt.grid(True)\r\n",
        "plt.legend()\r\n",
        "plt.show()"
      ],
      "execution_count": 39,
      "outputs": [
        {
          "output_type": "display_data",
          "data": {
            "image/png": "[encoded data removed]",
            "text/plain": [
              "<Figure size 432x288 with 1 Axes>"
            ]
          },
          "metadata": {
            "tags": [],
            "needs_background": "light"
          }
        }
      ]
    },
    {
      "cell_type": "code",
      "metadata": {
        "colab": {
          "base_uri": "https://localhost:8080/",
          "height": 279
        },
        "id": "_itPRRQjTGRP",
        "outputId": "b40b2dd3-3e98-4949-e0e4-9ffd99c489ea"
      },
      "source": [
        "import matplotlib.pyplot as plt\r\n",
        "\r\n",
        "history_dict = history.history\r\n",
        "\r\n",
        "acc_values = history_dict['accuracy']\r\n",
        "val_acc_values = history_dict['val_accuracy']\r\n",
        "epochs = range(1, len(loss_values) + 1)\r\n",
        "\r\n",
        "line1 = plt.plot(epochs, val_acc_values, label='Validation/Test Accuracy')\r\n",
        "line2 = plt.plot(epochs, acc_values, label='Training Accuracy')\r\n",
        "plt.setp(line1, linewidth=2.0, marker = '+', markersize=10.0)\r\n",
        "plt.setp(line2, linewidth=2.0, marker = '4', markersize=10.0)\r\n",
        "plt.xlabel('Epochs') \r\n",
        "plt.ylabel('Accuracy')\r\n",
        "plt.grid(True)\r\n",
        "plt.legend()\r\n",
        "plt.show()"
      ],
      "execution_count": 43,
      "outputs": [
        {
          "output_type": "display_data",
          "data": {
            "image/png": "[encoded data removed]",
            "text/plain": [
              "<Figure size 432x288 with 1 Axes>"
            ]
          },
          "metadata": {
            "tags": [],
            "needs_background": "light"
          }
        }
      ]
    }
  ]
}